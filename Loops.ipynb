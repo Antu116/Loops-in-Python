{
  "nbformat": 4,
  "nbformat_minor": 0,
  "metadata": {
    "colab": {
      "provenance": [],
      "authorship_tag": "ABX9TyP1wyFjqQUeRQkZSvGv1UWr",
      "include_colab_link": true
    },
    "kernelspec": {
      "name": "python3",
      "display_name": "Python 3"
    },
    "language_info": {
      "name": "python"
    }
  },
  "cells": [
    {
      "cell_type": "markdown",
      "metadata": {
        "id": "view-in-github",
        "colab_type": "text"
      },
      "source": [
        "<a href=\"https://colab.research.google.com/github/Antu116/Loops-in-Python/blob/main/Loops.ipynb\" target=\"_parent\"><img src=\"https://colab.research.google.com/assets/colab-badge.svg\" alt=\"Open In Colab\"/></a>"
      ]
    },
    {
      "cell_type": "markdown",
      "source": [
        "# While Loop"
      ],
      "metadata": {
        "id": "20HCCVTPJWIh"
      }
    },
    {
      "cell_type": "markdown",
      "source": [
        "\n",
        "Create the variable offset with an initial value of 8. Code a while loop that keeps running as long as offset is not equal to 0. Inside the while loop: Print out the sentence \"correcting...\". Next, decrease the value of offset by 1. You can do this with offset = offset - 1. Finally, still within your loop, print out offset so you can see how it changes."
      ],
      "metadata": {
        "id": "0XA29aemJlUZ"
      }
    },
    {
      "cell_type": "code",
      "execution_count": 2,
      "metadata": {
        "colab": {
          "base_uri": "https://localhost:8080/"
        },
        "id": "6x-8LpGmJFnG",
        "outputId": "493cada3-320e-4b96-cc0c-d9d11c35c03a"
      },
      "outputs": [
        {
          "output_type": "stream",
          "name": "stdout",
          "text": [
            "correcting...\n",
            "7\n",
            "correcting...\n",
            "6\n",
            "correcting...\n",
            "5\n",
            "correcting...\n",
            "4\n",
            "correcting...\n",
            "3\n",
            "correcting...\n",
            "2\n",
            "correcting...\n",
            "1\n",
            "correcting...\n",
            "0\n"
          ]
        }
      ],
      "source": [
        "# Initialize offset\n",
        "offset = 8\n",
        "\n",
        "# Code the while loop\n",
        "while offset != 0:\n",
        "    print(\"correcting...\")\n",
        "    offset = offset - 1\n",
        "    print(offset)"
      ]
    },
    {
      "cell_type": "markdown",
      "source": [
        "Inside the while loop, complete the if-else statement:\n",
        "If offset is greater than zero, you should decrease offset by 1.\n",
        "Else, you should increase offset by 1.\n",
        "If you've coded things correctly, hitting Submit Answer should work this time.\n",
        "If your code is still taking too long to run (or your session is expiring), you probably made a mistake. Check your code and make sure that the statement offset != 0 will eventually evaluate to FALSE!"
      ],
      "metadata": {
        "id": "Ym0HSlorJwQ2"
      }
    },
    {
      "cell_type": "code",
      "source": [
        "# Initialize offset\n",
        "offset = -6\n",
        "\n",
        "# Code the while loop\n",
        "while offset != 0 :\n",
        "    print(\"correcting...\")\n",
        "    if offset > 0:\n",
        "      offset = offset - 1\n",
        "    else : \n",
        "      offset = offset + 1    \n",
        "    print(offset)"
      ],
      "metadata": {
        "colab": {
          "base_uri": "https://localhost:8080/"
        },
        "id": "RTRfU_TuJzOf",
        "outputId": "027bd334-cfb7-4d68-a68a-f8081942fcb7"
      },
      "execution_count": 3,
      "outputs": [
        {
          "output_type": "stream",
          "name": "stdout",
          "text": [
            "correcting...\n",
            "-5\n",
            "correcting...\n",
            "-4\n",
            "correcting...\n",
            "-3\n",
            "correcting...\n",
            "-2\n",
            "correcting...\n",
            "-1\n",
            "correcting...\n",
            "0\n"
          ]
        }
      ]
    },
    {
      "cell_type": "markdown",
      "source": [
        "# For Loop"
      ],
      "metadata": {
        "id": "1rMba--tJ0hP"
      }
    },
    {
      "cell_type": "markdown",
      "source": [
        "Write a for loop that iterates over all elements of the areas list and prints out every element separately."
      ],
      "metadata": {
        "id": "9OyyBPPQJ3-S"
      }
    },
    {
      "cell_type": "code",
      "source": [
        "# areas list\n",
        "areas = [11.25, 18.0, 20.0, 10.75, 9.50]\n",
        "\n",
        "# Code the for loop\n",
        "for i in areas:\n",
        "    print(i)"
      ],
      "metadata": {
        "colab": {
          "base_uri": "https://localhost:8080/"
        },
        "id": "NpWGrbkpJ537",
        "outputId": "773e4096-5714-426c-8c77-c61738921408"
      },
      "execution_count": 4,
      "outputs": [
        {
          "output_type": "stream",
          "name": "stdout",
          "text": [
            "11.25\n",
            "18.0\n",
            "20.0\n",
            "10.75\n",
            "9.5\n"
          ]
        }
      ]
    },
    {
      "cell_type": "markdown",
      "source": [
        "\n",
        "Adapt the for loop in the sample code to use enumerate() and use two iterator variables. Update the print() statement so that on each run, a line of the form \"room x: y\" should be printed, where x is the index of the list element and y is the actual list element, i.e. the area. Make sure to print out this exact string, with the correct spacing."
      ],
      "metadata": {
        "id": "UI7xrTHsJ68T"
      }
    },
    {
      "cell_type": "code",
      "source": [
        "# areas list\n",
        "areas = [11.25, 18.0, 20.0, 10.75, 9.50]\n",
        "\n",
        "# Change for loop to use enumerate() and update print()\n",
        "for index, area in enumerate(areas) :\n",
        "    print(\"room \" + str(index) + \": \" + str(area))"
      ],
      "metadata": {
        "colab": {
          "base_uri": "https://localhost:8080/"
        },
        "id": "sVCGD7waJ92V",
        "outputId": "ab455ee2-efdf-49eb-c9c9-39c59eeaa39d"
      },
      "execution_count": 5,
      "outputs": [
        {
          "output_type": "stream",
          "name": "stdout",
          "text": [
            "room 0: 11.25\n",
            "room 1: 18.0\n",
            "room 2: 20.0\n",
            "room 3: 10.75\n",
            "room 4: 9.5\n"
          ]
        }
      ]
    },
    {
      "cell_type": "markdown",
      "source": [
        "Adapt the print() function in the for loop so that the first printout becomes \"room 1: 11.25\", the second one \"room 2: 18.0\" and so on."
      ],
      "metadata": {
        "id": "XFqYgNpwJ_WN"
      }
    },
    {
      "cell_type": "code",
      "source": [
        "# areas list\n",
        "areas = [11.25, 18.0, 20.0, 10.75, 9.50]\n",
        "\n",
        "# Code the for loop\n",
        "for index, area in enumerate(areas) :\n",
        "    print(\"room \" + str(index + 1) + \": \" + str(area))"
      ],
      "metadata": {
        "colab": {
          "base_uri": "https://localhost:8080/"
        },
        "id": "mayNWZpSKAu-",
        "outputId": "23db73f8-0453-4619-ef9f-c89dcb385cde"
      },
      "execution_count": 6,
      "outputs": [
        {
          "output_type": "stream",
          "name": "stdout",
          "text": [
            "room 1: 11.25\n",
            "room 2: 18.0\n",
            "room 3: 20.0\n",
            "room 4: 10.75\n",
            "room 5: 9.5\n"
          ]
        }
      ]
    },
    {
      "cell_type": "markdown",
      "source": [
        "\n",
        "Write a for loop that goes through each sublist of house and prints out the x is y sqm, where x is the name of the room and y is the area of the room."
      ],
      "metadata": {
        "id": "mFhzo6oUKCqn"
      }
    },
    {
      "cell_type": "code",
      "source": [
        "# house list of lists\n",
        "house = [[\"hallway\", 11.25], \n",
        "         [\"kitchen\", 18.0], \n",
        "         [\"living room\", 20.0], \n",
        "         [\"bedroom\", 10.75], \n",
        "         [\"bathroom\", 9.50]]\n",
        "         \n",
        "# Build a for loop from scratch\n",
        "for i in house:\n",
        "    print(\"the \" + str(i[0]) + \" is \" + str(i[1]) + \" sqm\")"
      ],
      "metadata": {
        "colab": {
          "base_uri": "https://localhost:8080/"
        },
        "id": "5qQ6zHFtKCbX",
        "outputId": "56a637f9-e5eb-4c6d-ea1d-6502ba9e453d"
      },
      "execution_count": 7,
      "outputs": [
        {
          "output_type": "stream",
          "name": "stdout",
          "text": [
            "the hallway is 11.25 sqm\n",
            "the kitchen is 18.0 sqm\n",
            "the living room is 20.0 sqm\n",
            "the bedroom is 10.75 sqm\n",
            "the bathroom is 9.5 sqm\n"
          ]
        }
      ]
    },
    {
      "cell_type": "markdown",
      "source": [
        "# For Loop is Dictionary"
      ],
      "metadata": {
        "id": "05BmfHmhKEpY"
      }
    },
    {
      "cell_type": "markdown",
      "source": [
        "**We have to use 'items' to get the elements from a dictionary**"
      ],
      "metadata": {
        "id": "akJKVqayKIr6"
      }
    },
    {
      "cell_type": "markdown",
      "source": [
        "\n",
        "Write a for loop that goes through each key:value pair of europe. On each iteration, \"the capital of x is y\" should be printed out, where x is the key and y is the value of the pair."
      ],
      "metadata": {
        "id": "NggERxqLKL9r"
      }
    },
    {
      "cell_type": "code",
      "source": [
        "# Definition of dictionary\n",
        "europe = {'spain':'madrid', 'france':'paris', 'germany':'berlin',\n",
        "          'norway':'oslo', 'italy':'rome', 'poland':'warsaw', 'austria':'vienna' }\n",
        "          \n",
        "# Iterate over europe\n",
        "for key,value in europe.items():\n",
        "    print(\"the \" + \"capital\" + \" of \" + key + \" is \" + str(value))"
      ],
      "metadata": {
        "colab": {
          "base_uri": "https://localhost:8080/"
        },
        "id": "lJwdJsoEKNde",
        "outputId": "363035da-ea59-40eb-bb4d-27ba8e5acf42"
      },
      "execution_count": 8,
      "outputs": [
        {
          "output_type": "stream",
          "name": "stdout",
          "text": [
            "the capital of spain is madrid\n",
            "the capital of france is paris\n",
            "the capital of germany is berlin\n",
            "the capital of norway is oslo\n",
            "the capital of italy is rome\n",
            "the capital of poland is warsaw\n",
            "the capital of austria is vienna\n"
          ]
        }
      ]
    },
    {
      "cell_type": "markdown",
      "source": [
        "Import the numpy package under the local alias np.\n",
        "Write a for loop that iterates over all elements in np_height and prints out \"x inches\" for each element, where x is the value in the array.\n",
        "Write a for loop that visits every element of the np_baseball array and prints it out."
      ],
      "metadata": {
        "id": "dZK4jiMYKP_Z"
      }
    },
    {
      "cell_type": "code",
      "source": [
        "# Import numpy as np\n",
        "import numpy as np\n",
        "\n",
        "np_height = np.array([74,72,75,73])\n",
        "np_baseball = np.array([1,2,3,4,5,6])\n",
        "\n",
        "# For loop over np_height\n",
        "for x in np_height :\n",
        "    print(str(x) + \" inches\")\n",
        "\n",
        "# For loop over np_baseball\n",
        "for x in np.nditer(np_baseball) :\n",
        "    print(x)"
      ],
      "metadata": {
        "colab": {
          "base_uri": "https://localhost:8080/"
        },
        "id": "eVLDzfB2KRT3",
        "outputId": "8005ad45-234a-4ab2-8029-12240c607975"
      },
      "execution_count": 9,
      "outputs": [
        {
          "output_type": "stream",
          "name": "stdout",
          "text": [
            "74 inches\n",
            "72 inches\n",
            "75 inches\n",
            "73 inches\n",
            "1\n",
            "2\n",
            "3\n",
            "4\n",
            "5\n",
            "6\n"
          ]
        }
      ]
    },
    {
      "cell_type": "markdown",
      "source": [
        "\n",
        "# Loop over Pandas Dataframe."
      ],
      "metadata": {
        "id": "ANTi3vS2KTSQ"
      }
    },
    {
      "cell_type": "markdown",
      "source": [
        "Write a for loop that iterates over the rows of cars and on each iteration perform two print() calls: one to print out the row label and one to print out all of the rows contents."
      ],
      "metadata": {
        "id": "PTgVHpLeKU2Z"
      }
    },
    {
      "cell_type": "code",
      "source": [
        "# Import cars data\n",
        "import pandas as pd\n",
        "cars = pd.read_csv('/cars.csv', index_col = 0)\n",
        "# Iterate over rows of cars\n",
        "for lab, row in cars.iterrows():\n",
        "   print(lab)\n",
        "   print(row) "
      ],
      "metadata": {
        "colab": {
          "base_uri": "https://localhost:8080/"
        },
        "id": "cgNyU1kcKWki",
        "outputId": "5088265e-ef52-4a91-bf45-c974df927ca2"
      },
      "execution_count": 10,
      "outputs": [
        {
          "output_type": "stream",
          "name": "stdout",
          "text": [
            "US\n",
            "cars_per_cap              809\n",
            "country         United States\n",
            "drives_right             True\n",
            "Name: US, dtype: object\n",
            "AUS\n",
            "cars_per_cap          731\n",
            "country         Australia\n",
            "drives_right        False\n",
            "Name: AUS, dtype: object\n",
            "JAP\n",
            "cars_per_cap      588\n",
            "country         Japan\n",
            "drives_right    False\n",
            "Name: JAP, dtype: object\n",
            "IN\n",
            "cars_per_cap       18\n",
            "country         India\n",
            "drives_right    False\n",
            "Name: IN, dtype: object\n",
            "RU\n",
            "cars_per_cap       200\n",
            "country         Russia\n",
            "drives_right      True\n",
            "Name: RU, dtype: object\n",
            "MOR\n",
            "cars_per_cap         70\n",
            "country         Morocco\n",
            "drives_right       True\n",
            "Name: MOR, dtype: object\n",
            "EG\n",
            "cars_per_cap       45\n",
            "country         Egypt\n",
            "drives_right     True\n",
            "Name: EG, dtype: object\n"
          ]
        }
      ]
    },
    {
      "cell_type": "markdown",
      "source": [
        "Using the iterators lab and row, adapt the code in the for loop such that the first iteration prints out \"US: 809\", the second iteration \"AUS: 731\", and so on. The output should be in the form \"country: cars_per_cap\". Make sure to print out this exact string (with the correct spacing). You can use str() to convert your integer data to a string so that you can print it in conjunction with the country label."
      ],
      "metadata": {
        "id": "jnMgOuhpKXIy"
      }
    },
    {
      "cell_type": "code",
      "source": [
        "# Import cars data\n",
        "import pandas as pd\n",
        "cars = pd.read_csv('/cars.csv', index_col = 0)\n",
        "\n",
        "# Adapt for loop\n",
        "for lab, row in cars.iterrows() :\n",
        "    print(lab + \": \" + str(row[\"cars_per_cap\"]))"
      ],
      "metadata": {
        "colab": {
          "base_uri": "https://localhost:8080/"
        },
        "id": "lt_-qUubKZiz",
        "outputId": "25d9b56f-ae89-492b-8dff-66926c24e43d"
      },
      "execution_count": 11,
      "outputs": [
        {
          "output_type": "stream",
          "name": "stdout",
          "text": [
            "US: 809\n",
            "AUS: 731\n",
            "JAP: 588\n",
            "IN: 18\n",
            "RU: 200\n",
            "MOR: 70\n",
            "EG: 45\n"
          ]
        }
      ]
    },
    {
      "cell_type": "markdown",
      "source": [
        "Use a for loop to add a new column, named COUNTRY, that contains a uppercase version of the country names in the \"country\" column. You can use the string method upper() for this. To see if your code worked, print out cars. Don't indent this code, so that it's not part of the for loop."
      ],
      "metadata": {
        "id": "uG6zCOl-Kbv1"
      }
    },
    {
      "cell_type": "code",
      "source": [
        "# Import cars data\n",
        "import pandas as pd\n",
        "cars = pd.read_csv('/cars.csv', index_col = 0)\n",
        "\n",
        "# Code for loop that adds COUNTRY column\n",
        "for lab, row in cars.iterrows():\n",
        "    cars.loc[lab, \"COUNTRY\"] = row[\"country\"].upper()\n",
        "\n",
        "\n",
        "# Print cars\n",
        "print(cars)"
      ],
      "metadata": {
        "colab": {
          "base_uri": "https://localhost:8080/"
        },
        "id": "6jwTsfiJKc19",
        "outputId": "2cd9e321-ef60-4914-d0cb-701de920afa4"
      },
      "execution_count": 12,
      "outputs": [
        {
          "output_type": "stream",
          "name": "stdout",
          "text": [
            "            cars_per_cap        country  drives_right        COUNTRY\n",
            "country_ab                                                          \n",
            "US                   809  United States          True  UNITED STATES\n",
            "AUS                  731      Australia         False      AUSTRALIA\n",
            "JAP                  588          Japan         False          JAPAN\n",
            "IN                    18          India         False          INDIA\n",
            "RU                   200         Russia          True         RUSSIA\n",
            "MOR                   70        Morocco          True        MOROCCO\n",
            "EG                    45          Egypt          True          EGYPT\n"
          ]
        }
      ]
    },
    {
      "cell_type": "markdown",
      "source": [
        "Replace the for loop with a one-liner that uses .apply(str.upper). The call should give the same result: a column COUNTRY should be added to cars, containing an uppercase version of the country names. As usual, print out cars to see the fruits of your hard labor"
      ],
      "metadata": {
        "id": "l2_JTgctKeZW"
      }
    },
    {
      "cell_type": "code",
      "source": [
        "# Import cars data\n",
        "import pandas as pd\n",
        "cars = pd.read_csv('/cars.csv', index_col = 0)\n",
        "\n",
        "# Use .apply(str.upper)\n",
        "for lab, row in cars.iterrows() :\n",
        "    cars[\"COUNTRY\"] = cars[\"country\"].apply(str.upper)\n",
        "print(cars)"
      ],
      "metadata": {
        "colab": {
          "base_uri": "https://localhost:8080/"
        },
        "id": "r8v6nP9yKfY2",
        "outputId": "f06e3de1-bb85-4100-dd02-58695fb08ec7"
      },
      "execution_count": 13,
      "outputs": [
        {
          "output_type": "stream",
          "name": "stdout",
          "text": [
            "            cars_per_cap        country  drives_right        COUNTRY\n",
            "country_ab                                                          \n",
            "US                   809  United States          True  UNITED STATES\n",
            "AUS                  731      Australia         False      AUSTRALIA\n",
            "JAP                  588          Japan         False          JAPAN\n",
            "IN                    18          India         False          INDIA\n",
            "RU                   200         Russia          True         RUSSIA\n",
            "MOR                   70        Morocco          True        MOROCCO\n",
            "EG                    45          Egypt          True          EGYPT\n"
          ]
        }
      ]
    }
  ]
}